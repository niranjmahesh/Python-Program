{
 "cells": [
  {
   "cell_type": "code",
   "execution_count": 2,
   "metadata": {},
   "outputs": [
    {
     "data": {
      "text/plain": [
       "1.0"
      ]
     },
     "execution_count": 2,
     "metadata": {},
     "output_type": "execute_result"
    }
   ],
   "source": [
    "#import np as numpy \n",
    "#import pd as pandas\n",
    "\n",
    "from sklearn import datasets\n",
    "from sklearn.datasets import load_iris\n",
    "from sklearn.model_selection import train_test_split\n",
    "\n",
    "#load iris dataset\n",
    "\n",
    "X , y = datasets.load_iris(return_X_y= True , as_frame= True)\n",
    "\n",
    "#dataset information\n",
    "#print(datasets.load_iris()[\"DESCR\"])\n",
    "\n",
    "#feature description\n",
    "\n",
    "#X.describe()\n",
    "\n",
    "#datatype description\n",
    "#X.dtypes\n",
    "\n",
    "#split data into train and test part\n",
    "X_train , X_test , y_train , y_test = train_test_split(X , y, test_size=0.3 , random_state=42)\n",
    "\n",
    "#X_train\n",
    "#X_test\n",
    "#y_train\n",
    "#y_test\n",
    "\n",
    "#KNN output\n",
    "\n",
    "from sklearn.neighbors import KNeighborsClassifier\n",
    "knn = KNeighborsClassifier(n_neighbors=7)\n",
    "\n",
    "#Train KNN classifier\n",
    "\n",
    "knn.fit(X_train,y_train)\n",
    "\n",
    "#Evaluate Model\n",
    "y_pred = knn.predict(X_test)\n",
    "y_pred\n",
    "\n",
    "y_test\n",
    "\n",
    "#check accuracy score\n",
    "from sklearn.metrics import accuracy_score\n",
    "accuracy_score(y_test,y_pred)\n",
    "\n",
    "\n",
    "\n"
   ]
  }
 ],
 "metadata": {
  "kernelspec": {
   "display_name": "Python 3",
   "language": "python",
   "name": "python3"
  },
  "language_info": {
   "codemirror_mode": {
    "name": "ipython",
    "version": 3
   },
   "file_extension": ".py",
   "mimetype": "text/x-python",
   "name": "python",
   "nbconvert_exporter": "python",
   "pygments_lexer": "ipython3",
   "version": "3.13.1"
  }
 },
 "nbformat": 4,
 "nbformat_minor": 2
}
