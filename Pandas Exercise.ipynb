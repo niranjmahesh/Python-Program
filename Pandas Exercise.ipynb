{
 "cells": [
  {
   "cell_type": "code",
   "execution_count": 57,
   "metadata": {},
   "outputs": [],
   "source": [
    "import pandas as pd\n",
    "import numpy as np\n",
    "\n",
    "#data = {\"Name\" : [\"Vasanth\" , \"Joe\" , \"Santhosh\" , \"Kalvin\"],\n",
    " #       \"Age\"  : [42 , 42 , 44 , 37],\n",
    "  #      \"Location\" :[\"India\" , \"US\" ,\"UK\" ,\"India\"],\n",
    "   #     \"Salary\"   :[12000 , 10000 , 9000,14000]}\n",
    "\n",
    "\n",
    "#print the above data in data frame\n",
    "#df = pd.DataFrame(data)\n",
    "#print(df)\n",
    "\n",
    "# reading a csv file\n",
    "\n",
    "#HR_Data = pd.read_csv(\"C:/Family/1.Mahesh/3.Training/02.Python/HR_comma_sep.csv\")\n",
    "\n",
    "#print(HR_Data.head(100))\n",
    "#print(HR_Data.tail(100))\n",
    "\n",
    "HR_Data = pd.read_excel(\"C:/Family/1.Mahesh/3.Training/02.Python/HR_comma_sep.xls\")\n",
    "\n",
    "#print(HR_Data.head(10))\n",
    "#print(HR_Data.tail(10))\n",
    "\n",
    "#data information\n",
    "#print (HR_Data.info() )\n"
   ]
  },
  {
   "cell_type": "code",
   "execution_count": 58,
   "metadata": {},
   "outputs": [],
   "source": [
    "#describe mean , median , mode.\n",
    "#print(HR_Data.describe())"
   ]
  },
  {
   "cell_type": "code",
   "execution_count": 59,
   "metadata": {},
   "outputs": [],
   "source": [
    "#any nulls\n",
    "#print(HR_Data.isnull().sum())\n",
    "\n",
    "#duplicate data\n",
    "#print(HR_Data.duplicated())\n",
    "\n",
    "#print(HR_Data[\"promotion_last_5years\"].duplicated().sum())\n",
    "#   print(HR_Data.drop_duplicates(\"promotion_last_5years\"))\n",
    "\n",
    "\n",
    "#dropping duplicates\n",
    "#print(HR_Data.drop_duplicates())\n",
    "\n",
    "#replacing\n",
    "#print(HR_Data.tail(10))\n",
    "#print(HR_Data.replace(0.38 , 0.388))\n"
   ]
  },
  {
   "cell_type": "code",
   "execution_count": 60,
   "metadata": {},
   "outputs": [
    {
     "name": "stdout",
     "output_type": "stream",
     "text": [
      "       satisfaction_level  last_evaluation  number_project  \\\n",
      "0                    0.38             0.53               2   \n",
      "1                    0.80             0.86               5   \n",
      "2                    0.11             0.88               7   \n",
      "3                    0.72             0.87               5   \n",
      "4                    0.37             0.52               2   \n",
      "...                   ...              ...             ...   \n",
      "14994                0.40             0.57               2   \n",
      "14995                0.37             0.48               2   \n",
      "14996                0.37             0.53               2   \n",
      "14997                0.11             0.96               6   \n",
      "14998                0.37             0.52               2   \n",
      "\n",
      "       average_montly_hours  time_spend_company  Work_accident  left  \\\n",
      "0                       157                   3              0     1   \n",
      "1                       262                   6              0     1   \n",
      "2                       272                   4              0     1   \n",
      "3                       223                   5              0     1   \n",
      "4                       159                   3              0     1   \n",
      "...                     ...                 ...            ...   ...   \n",
      "14994                   151                   3              0     1   \n",
      "14995                   160                   3              0     1   \n",
      "14996                   143                   3              0     1   \n",
      "14997                   280                   4              0     1   \n",
      "14998                   158                   3              0     1   \n",
      "\n",
      "       promotion_last_5years    sales  salary Employee_Satisfaction_Level  \n",
      "0                          0    sales     low                   NOT HAPPY  \n",
      "1                          0    sales  medium                         NaN  \n",
      "2                          0    sales  medium                   NOT HAPPY  \n",
      "3                          0    sales     low                         NaN  \n",
      "4                          0    sales     low                   NOT HAPPY  \n",
      "...                      ...      ...     ...                         ...  \n",
      "14994                      0  support     low                   NOT HAPPY  \n",
      "14995                      0  support     low                   NOT HAPPY  \n",
      "14996                      0  support     low                   NOT HAPPY  \n",
      "14997                      0  support     low                   NOT HAPPY  \n",
      "14998                      0  support     low                   NOT HAPPY  \n",
      "\n",
      "[14999 rows x 11 columns]\n"
     ]
    }
   ],
   "source": [
    "#column Transformation\n",
    "\n",
    "HR_Data = pd.read_excel(\"C:/Family/1.Mahesh/3.Training/02.Python/HR_comma_sep.xls\")\n",
    "HR_Data.loc[(HR_Data[\"satisfaction_level\"] < 0.5) , \"Employee_Satisfaction_Level\"] = \"NOT HAPPY\"\n",
    "HR_Data.loc[(HR_Data[\"satisfaction_level\"] > 0.5) , \"Employee_Satisfaction_Level\"] = \"IS HE HAPPY\"\n",
    "print(HR_Data)\n"
   ]
  }
 ],
 "metadata": {
  "kernelspec": {
   "display_name": "Python 3",
   "language": "python",
   "name": "python3"
  },
  "language_info": {
   "codemirror_mode": {
    "name": "ipython",
    "version": 3
   },
   "file_extension": ".py",
   "mimetype": "text/x-python",
   "name": "python",
   "nbconvert_exporter": "python",
   "pygments_lexer": "ipython3",
   "version": "3.13.1"
  }
 },
 "nbformat": 4,
 "nbformat_minor": 2
}
