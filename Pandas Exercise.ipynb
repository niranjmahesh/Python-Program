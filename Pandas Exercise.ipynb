{
 "cells": [
  {
   "cell_type": "code",
   "execution_count": 61,
   "metadata": {},
   "outputs": [],
   "source": [
    "import pandas as pd\n",
    "import numpy as np\n",
    "\n",
    "#data = {\"Name\" : [\"Vasanth\" , \"Joe\" , \"Santhosh\" , \"Kalvin\"],\n",
    " #       \"Age\"  : [42 , 42 , 44 , 37],\n",
    "  #      \"Location\" :[\"India\" , \"US\" ,\"UK\" ,\"India\"],\n",
    "   #     \"Salary\"   :[12000 , 10000 , 9000,14000]}\n",
    "\n",
    "\n",
    "#print the above data in data frame\n",
    "#df = pd.DataFrame(data)\n",
    "#print(df)\n",
    "\n",
    "# reading a csv file\n",
    "\n",
    "#HR_Data = pd.read_csv(\"C:/Family/1.Mahesh/3.Training/02.Python/HR_comma_sep.csv\")\n",
    "\n",
    "#print(HR_Data.head(100))\n",
    "#print(HR_Data.tail(100))\n",
    "\n",
    "HR_Data = pd.read_excel(\"C:/Family/1.Mahesh/3.Training/02.Python/HR_comma_sep.xls\")\n",
    "\n",
    "#print(HR_Data.head(10))\n",
    "#print(HR_Data.tail(10))\n",
    "\n",
    "#data information\n",
    "#print (HR_Data.info() )\n"
   ]
  },
  {
   "cell_type": "code",
   "execution_count": 62,
   "metadata": {},
   "outputs": [],
   "source": [
    "#describe mean , median , mode.\n",
    "#print(HR_Data.describe())"
   ]
  },
  {
   "cell_type": "code",
   "execution_count": 63,
   "metadata": {},
   "outputs": [],
   "source": [
    "#any nulls\n",
    "#print(HR_Data.isnull().sum())\n",
    "\n",
    "#duplicate data\n",
    "#print(HR_Data.duplicated())\n",
    "\n",
    "#print(HR_Data[\"promotion_last_5years\"].duplicated().sum())\n",
    "#   print(HR_Data.drop_duplicates(\"promotion_last_5years\"))\n",
    "\n",
    "\n",
    "#dropping duplicates\n",
    "#print(HR_Data.drop_duplicates())\n",
    "\n",
    "#replacing\n",
    "#print(HR_Data.tail(10))\n",
    "#print(HR_Data.replace(0.38 , 0.388))\n"
   ]
  },
  {
   "cell_type": "code",
   "execution_count": null,
   "metadata": {},
   "outputs": [],
   "source": [
    "#column Transformation\n",
    "\n",
    "HR_Data = pd.read_excel(\"C:/Family/1.Mahesh/3.Training/02.Python/HR_comma_sep.xls\")\n",
    "HR_Data.loc[(HR_Data[\"satisfaction_level\"] < 0.5) , \"Employee_Satisfaction_Level\"] = \"NOT HAPPY\"\n",
    "HR_Data.loc[(HR_Data[\"satisfaction_level\"] > 0.5) , \"Employee_Satisfaction_Level\"] = \"IS HE HAPPY\"\n",
    "print(HR_Data)\n"
   ]
  }
 ],
 "metadata": {
  "kernelspec": {
   "display_name": "Python 3",
   "language": "python",
   "name": "python3"
  },
  "language_info": {
   "codemirror_mode": {
    "name": "ipython",
    "version": 3
   },
   "file_extension": ".py",
   "mimetype": "text/x-python",
   "name": "python",
   "nbconvert_exporter": "python",
   "pygments_lexer": "ipython3",
   "version": "3.13.1"
  }
 },
 "nbformat": 4,
 "nbformat_minor": 2
}
