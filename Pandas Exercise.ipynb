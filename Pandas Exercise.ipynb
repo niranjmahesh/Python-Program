{
 "cells": [
  {
   "cell_type": "code",
   "execution_count": 10,
   "metadata": {},
   "outputs": [
    {
     "name": "stdout",
     "output_type": "stream",
     "text": [
      "       satisfaction_level  last_evaluation  number_project  \\\n",
      "14989                0.43             0.57               2   \n",
      "14990                0.89             0.88               5   \n",
      "14991                0.09             0.81               6   \n",
      "14992                0.40             0.48               2   \n",
      "14993                0.76             0.83               6   \n",
      "14994                0.40             0.57               2   \n",
      "14995                0.37             0.48               2   \n",
      "14996                0.37             0.53               2   \n",
      "14997                0.11             0.96               6   \n",
      "14998                0.37             0.52               2   \n",
      "\n",
      "       average_montly_hours  time_spend_company  Work_accident  left  \\\n",
      "14989                   159                   3              1     1   \n",
      "14990                   228                   5              1     1   \n",
      "14991                   257                   4              0     1   \n",
      "14992                   155                   3              0     1   \n",
      "14993                   293                   6              0     1   \n",
      "14994                   151                   3              0     1   \n",
      "14995                   160                   3              0     1   \n",
      "14996                   143                   3              0     1   \n",
      "14997                   280                   4              0     1   \n",
      "14998                   158                   3              0     1   \n",
      "\n",
      "       promotion_last_5years      sales salary  \n",
      "14989                      0  technical    low  \n",
      "14990                      0    support    low  \n",
      "14991                      0    support    low  \n",
      "14992                      0    support    low  \n",
      "14993                      0    support    low  \n",
      "14994                      0    support    low  \n",
      "14995                      0    support    low  \n",
      "14996                      0    support    low  \n",
      "14997                      0    support    low  \n",
      "14998                      0    support    low  \n"
     ]
    }
   ],
   "source": [
    "import pandas as pd\n",
    "\n",
    "#data = {\"Name\" : [\"Vasanth\" , \"Joe\" , \"Santhosh\" , \"Kalvin\"],\n",
    " #       \"Age\"  : [42 , 42 , 44 , 37],\n",
    "  #      \"Location\" :[\"India\" , \"US\" ,\"UK\" ,\"India\"],\n",
    "   #     \"Salary\"   :[12000 , 10000 , 9000,14000]}\n",
    "\n",
    "\n",
    "#print the above data in data frame\n",
    "#df = pd.DataFrame(data)\n",
    "#print(df)\n",
    "\n",
    "# reading a csv file\n",
    "\n",
    "#HR_Data = pd.read_csv(\"C:/Family/1.Mahesh/3.Training/02.Python/HR_comma_sep.csv\")\n",
    "\n",
    "#print(HR_Data.head(100))\n",
    "#print(HR_Data.tail(100))\n",
    "\n",
    "HR_Data = pd.read_excel(\"C:/Family/1.Mahesh/3.Training/02.Python/HR_comma_sep.xls\")\n",
    "\n",
    "#print(HR_Data.head(10))\n",
    "print(HR_Data.tail(10))\n",
    "\n"
   ]
  },
  {
   "cell_type": "code",
   "execution_count": null,
   "metadata": {},
   "outputs": [],
   "source": []
  }
 ],
 "metadata": {
  "kernelspec": {
   "display_name": "Python 3",
   "language": "python",
   "name": "python3"
  },
  "language_info": {
   "codemirror_mode": {
    "name": "ipython",
    "version": 3
   },
   "file_extension": ".py",
   "mimetype": "text/x-python",
   "name": "python",
   "nbconvert_exporter": "python",
   "pygments_lexer": "ipython3",
   "version": "3.13.1"
  }
 },
 "nbformat": 4,
 "nbformat_minor": 2
}
