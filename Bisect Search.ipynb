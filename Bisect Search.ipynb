{
 "cells": [
  {
   "cell_type": "code",
   "execution_count": 44,
   "metadata": {},
   "outputs": [
    {
     "name": "stdout",
     "output_type": "stream",
     "text": [
      "[8, 11, 45, 49, 54, 57, 73, 75, 87, 96]\n",
      "Element exists 2\n"
     ]
    }
   ],
   "source": [
    "# This code is identify the index of the target variable in the list randomly generated\n",
    "import bisect\n",
    "import random\n",
    "\n",
    "a_list = sorted(random.sample(range(1,100),10))\n",
    "print(a_list)\n",
    "\n",
    "#old_list = [1,2,3,4,5]\n",
    "target = 45\n",
    "left = bisect.bisect_left(a_list,target)\n",
    "\n",
    "if left < len(a_list) and  a_list[left] == target :\n",
    "            print(f\"Element exists {left}\")\n",
    "else:\n",
    "              \n",
    "              print(f\"No element exist\")\n",
    "\n"
   ]
  }
 ],
 "metadata": {
  "kernelspec": {
   "display_name": "Python 3",
   "language": "python",
   "name": "python3"
  },
  "language_info": {
   "codemirror_mode": {
    "name": "ipython",
    "version": 3
   },
   "file_extension": ".py",
   "mimetype": "text/x-python",
   "name": "python",
   "nbconvert_exporter": "python",
   "pygments_lexer": "ipython3",
   "version": "3.13.1"
  }
 },
 "nbformat": 4,
 "nbformat_minor": 2
}
